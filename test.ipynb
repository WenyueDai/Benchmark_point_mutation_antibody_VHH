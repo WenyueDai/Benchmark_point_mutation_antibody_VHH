{
 "cells": [
  {
   "cell_type": "code",
   "execution_count": null,
   "id": "f2761e7d",
   "metadata": {},
   "outputs": [
    {
     "ename": "ModuleNotFoundError",
     "evalue": "No module named 'ablang'",
     "output_type": "error",
     "traceback": [
      "\u001b[0;31m---------------------------------------------------------------------------\u001b[0m",
      "\u001b[0;31mModuleNotFoundError\u001b[0m                       Traceback (most recent call last)",
      "Cell \u001b[0;32mIn[1], line 1\u001b[0m\n\u001b[0;32m----> 1\u001b[0m \u001b[38;5;28;01mfrom\u001b[39;00m\u001b[38;5;250m \u001b[39m\u001b[38;5;21;01mablang\u001b[39;00m\u001b[38;5;250m \u001b[39m\u001b[38;5;28;01mimport\u001b[39;00m AbLang\n\u001b[1;32m      2\u001b[0m \u001b[38;5;28;01mimport\u001b[39;00m\u001b[38;5;250m \u001b[39m\u001b[38;5;21;01mtorch\u001b[39;00m\n\u001b[1;32m      4\u001b[0m model \u001b[38;5;241m=\u001b[39m AbLang(\u001b[38;5;124m\"\u001b[39m\u001b[38;5;124mablang_im\u001b[39m\u001b[38;5;124m\"\u001b[39m)   \u001b[38;5;66;03m# or whatever checkpoint you use\u001b[39;00m\n",
      "\u001b[0;31mModuleNotFoundError\u001b[0m: No module named 'ablang'"
     ]
    }
   ],
   "source": [
    "from ablang import AbLang\n",
    "import torch\n",
    "\n",
    "model = AbLang(\"ablang_im\")   # or whatever checkpoint you use\n",
    "\n",
    "AAs = \"ACDEFGHIKLMNPQRSTVWY\"\n",
    "\n",
    "# a simple dummy sequence to get logits\n",
    "vh_seq = \"EVQLVESGGGLVQPGGSLRLSCAASGFTFSSYAMHWVRQAPGKGLEWVSAISGSGGSTYYADSVKGRFTISRDNAKNSLYLQMNSLR\"\n",
    "\n",
    "tokenized = model.tokenizer([vh_seq], pad=True, device=\"cpu\")\n",
    "\n",
    "with torch.no_grad():\n",
    "    logits = model.AbLang(tokenized)[0]  # shape [seq_len, 20]\n",
    "\n",
    "# get the first real position logits (skip special tokens)\n",
    "logit0 = logits[1]  # logits for first amino acid\n",
    "print(\"First position logits:\", logit0)\n",
    "\n",
    "# check which amino acid has the highest score for the known first residue\n",
    "first_res = vh_seq[0]  # e.g., 'E'\n",
    "print(f\"First residue is {first_res}\")\n",
    "best_idx = torch.argmax(logit0).item()\n",
    "print(f\"Best scoring index: {best_idx}, interpreted as {AAs[best_idx]}\")\n",
    "\n"
   ]
  }
 ],
 "metadata": {
  "kernelspec": {
   "display_name": "efficient-evolution",
   "language": "python",
   "name": "python3"
  },
  "language_info": {
   "codemirror_mode": {
    "name": "ipython",
    "version": 3
   },
   "file_extension": ".py",
   "mimetype": "text/x-python",
   "name": "python",
   "nbconvert_exporter": "python",
   "pygments_lexer": "ipython3",
   "version": "3.9.13"
  }
 },
 "nbformat": 4,
 "nbformat_minor": 5
}
