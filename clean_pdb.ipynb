{
 "cells": [
  {
   "cell_type": "code",
   "execution_count": 4,
   "id": "4bd60a9f",
   "metadata": {},
   "outputs": [
    {
     "name": "stdout",
     "output_type": "stream",
     "text": [
      "Fixed PDB with hydrogens and renamed chains written to: pdbs/Caplacizumab_.pdb\n"
     ]
    }
   ],
   "source": [
    "from pdbfixer import PDBFixer\n",
    "from openmm.app import PDBFile\n",
    "from io import StringIO\n",
    "\n",
    "input_pdb = '/home/eva/0_point_mutation/pdbs/Caplacizumab.pdb'\n",
    "output_pdb = 'pdbs/Caplacizumab_.pdb'\n",
    "\n",
    "# Step 1: Run PDBFixer\n",
    "fixer = PDBFixer(filename=input_pdb)\n",
    "fixer.findMissingResidues()\n",
    "fixer.findMissingAtoms()\n",
    "fixer.addMissingAtoms()\n",
    "fixer.addMissingHydrogens(pH=7.4)  # Add hydrogens at physiological pH\n",
    "\n",
    "# Step 2: Write to buffer\n",
    "buffer = StringIO()\n",
    "PDBFile.writeFile(fixer.topology, fixer.positions, buffer)\n",
    "buffer.seek(0)\n",
    "\n",
    "# Step 3: Rename chain A → H, B → M\n",
    "with open(output_pdb, 'w') as out:\n",
    "    for line in buffer:\n",
    "        if line.startswith(('ATOM', 'HETATM')) and len(line) >= 22:\n",
    "            chain_id = line[21]\n",
    "            if chain_id == 'A':\n",
    "                line = line[:21] + 'H' + line[22:]\n",
    "            elif chain_id == 'B':\n",
    "                line = line[:21] + 'M' + line[22:]\n",
    "        out.write(line)\n",
    "\n",
    "print(f\"Fixed PDB with hydrogens and renamed chains written to: {output_pdb}\")\n"
   ]
  }
 ],
 "metadata": {
  "kernelspec": {
   "display_name": "point_mutation",
   "language": "python",
   "name": "python3"
  },
  "language_info": {
   "codemirror_mode": {
    "name": "ipython",
    "version": 3
   },
   "file_extension": ".py",
   "mimetype": "text/x-python",
   "name": "python",
   "nbconvert_exporter": "python",
   "pygments_lexer": "ipython3",
   "version": "3.9.23"
  }
 },
 "nbformat": 4,
 "nbformat_minor": 5
}
