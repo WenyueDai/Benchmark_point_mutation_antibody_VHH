{
 "cells": [
  {
   "cell_type": "code",
   "execution_count": 1,
   "id": "4bd60a9f",
   "metadata": {},
   "outputs": [
    {
     "name": "stdout",
     "output_type": "stream",
     "text": [
      "Fixed PDB with hydrogens and renamed chains written to: /home/eva/0_point_mutation/playground_mAb_DMS/1MLC_.pdb\n"
     ]
    }
   ],
   "source": [
    "from pdbfixer import PDBFixer\n",
    "from openmm.app import PDBFile\n",
    "from io import StringIO\n",
    "\n",
    "input_pdb = '/home/eva/0_point_mutation/playground_mAb_DMS/1MLC.pdb'\n",
    "output_pdb = '/home/eva/0_point_mutation/playground_mAb_DMS/1MLC_.pdb'\n",
    "\n",
    "# Step 1: Run PDBFixer\n",
    "fixer = PDBFixer(filename=input_pdb)\n",
    "fixer.findMissingResidues()\n",
    "fixer.findMissingAtoms()\n",
    "fixer.addMissingAtoms()\n",
    "fixer.addMissingHydrogens(pH=7.4)  # Add hydrogens at physiological pH\n",
    "\n",
    "# Step 2: Write to buffer\n",
    "buffer = StringIO()\n",
    "PDBFile.writeFile(fixer.topology, fixer.positions, buffer)\n",
    "buffer.seek(0)\n",
    "\n",
    "# Step 3: Rename chain A → H, B → M\n",
    "with open(output_pdb, 'w') as out:\n",
    "    for line in buffer:\n",
    "        if line.startswith(('ATOM', 'HETATM')) and len(line) >= 22:\n",
    "            chain_id = line[21]\n",
    "            if chain_id == 'C':\n",
    "                line = line[:21] + 'H' + line[22:]\n",
    "            elif chain_id == 'D':\n",
    "                line = line[:21] + 'L' + line[22:]\n",
    "        out.write(line)\n",
    "\n",
    "print(f\"Fixed PDB with hydrogens and renamed chains written to: {output_pdb}\")\n"
   ]
  },
  {
   "cell_type": "code",
   "execution_count": 1,
   "id": "13bc1de1",
   "metadata": {},
   "outputs": [
    {
     "name": "stdout",
     "output_type": "stream",
     "text": [
      "Downloading weights for antibody_model_1...\n",
      "Downloading weights for antibody_model_2...\n",
      "Downloading weights for antibody_model_3...\n",
      "Downloading weights for antibody_model_4...\n",
      "Saved structure to /home/eva/0_point_mutation/playground_mAb_DMS/1MLC_abodybuilder2.pdb\n"
     ]
    }
   ],
   "source": [
    "vh_seq = \"QVQLQESGAEVMKPGASVKISCKATGYTFSTYWIEWVKQRPGHGLEWIGEILPGSGSTYYNEKFKGKATFTADTSSNTAYMQLSSLTSEDSAVYYCARGDGNYGYWGQGTTLTVSSASTTPPSVFPLAPGSAAQTNSMVTLGCLVKGYFPEPVTVTWNSGSLSSGVHTFPAVLQSDLYTLSSSVTVPSSPRPSETVTCNVAHPASSTKVDKKIVPRDC\"\n",
    "vl_seq = \"DIELTQSPATLSVTPGDSVSLSCRASQSISNNLHWYQQKSHESPRLLIKYVSQSSSGIPSRFSGSGSGTDFTLSINSVETEDFGMYFCQQSNSWPRTFGGGTKLEIKRADAAPTVSIFPPSSEQLTSGGASVVCFLNNFYPKDINVKWKIDGSERQNGVLNSWTDQDSKDSTYSMSSTLTLTKDEYERHNSYTCEATHKTSTSPIVKSFNRNEC\"\n",
    "output_path = '/home/eva/0_point_mutation/playground_mAb_DMS/1MLC_abodybuilder2.pdb'\n",
    "def run_abodybuilder2(vh_seq, vl_seq, output_path):\n",
    "    from ImmuneBuilder import ABodyBuilder2, NanoBodyBuilder2\n",
    "    predictor = ABodyBuilder2() if vl_seq else NanoBodyBuilder2()\n",
    "    model = predictor.predict({'H': vh_seq, 'L': vl_seq} if vl_seq else {'H': vh_seq})\n",
    "    model.save(output_path)\n",
    "    print(f\"Saved structure to {output_path}\")\n",
    "\n",
    "run_abodybuilder2(vh_seq, vl_seq, output_path)"
   ]
  },
  {
   "cell_type": "code",
   "execution_count": 19,
   "id": "f109987d",
   "metadata": {},
   "outputs": [
    {
     "name": "stdout",
     "output_type": "stream",
     "text": [
      "VH Numbered Sequence: 1 2 3 4 5 6 7 8 9 10 11 12 13 14 15 16 17 18 19 20 21 22 23 24 25 26 27 28 29 30 31 32 33 34 35 36 37 38 39 40 41 42 43 44 45 46 47 48 49 50 51 52 53 54 55 56 57 58 59 60 61 62 63 64 65 66 67 68 69 70 71 72 73 74 75 76 77 78 79 80 81 82 83 84 85 86 87 88 89 90 91 92 93 94 95 96 97 98 99 100 101 102 103 104 105 106 107 108 109 110 111 112 113 114 115 116 117 118 119 120 121 122 123 124 125 126 127 128 \n",
      "VL Numbered Sequence: 1 2 3 4 5 6 7 8 9 10 11 12 13 14 15 16 17 18 19 20 21 22 23 24 25 26 27 28 29 30 31 32 33 34 35 36 37 38 39 40 41 42 43 44 45 46 47 48 49 50 51 52 53 54 55 56 57 58 59 60 61 62 63 64 65 66 67 68 69 70 71 72 73 74 75 76 77 78 79 80 81 82 83 84 85 86 87 88 89 90 91 92 93 94 95 96 97 98 99 100 101 102 103 104 105 106 107 108 109 110 111 112 113 114 115 116 117 118 119 120 121 122 123 124 125 126 127 \n",
      "VH Sequence: QVQLQESGA-EVMKPGASVKISCKATGYTF----STYWIEWVKQRPGHGLEWIGEILPG--SGSTYYNEKFK-GKATFTADTSSNTAYMQLSSLTSEDSAVYYCARGDG----NYGYWGQGTTLTVSS\n",
      "VL Sequence: DIELTQSPATLSVTPGDSVSLSCRASQSI------SNNLHWYQQKSHESPRLLIKYV-------SQSSSGIP-SRFSGSG--SGTDFTLSINSVETEDFGMYFCQQSNS----WPRTFGGGTKLEIK\n"
     ]
    }
   ],
   "source": [
    "from anarci import anarci\n",
    "\n",
    "vh_seq = \"QVQLQESGAEVMKPGASVKISCKATGYTFSTYWIEWVKQRPGHGLEWIGEILPGSGSTYYNEKFKGKATFTADTSSNTAYMQLSSLTSEDSAVYYCARGDGNYGYWGQGTTLTVSSASTTPPSVFPLAPGSAAQTNSMVTLGCLVKGYFPEPVTVTWNSGSLSSGVHTFPAVLQSDLYTLSSSVTVPSSPRPSETVTCNVAHPASSTKVDKKIVPRDC\"\n",
    "vl_seq = \"DIELTQSPATLSVTPGDSVSLSCRASQSISNNLHWYQQKSHESPRLLIKYVSQSSSGIPSRFSGSGSGTDFTLSINSVETEDFGMYFCQQSNSWPRTFGGGTKLEIKRADAAPTVSIFPPSSEQLTSGGASVVCFLNNFYPKDINVKWKIDGSERQNGVLNSWTDQDSKDSTYSMSSTLTLTKDEYERHNSYTCEATHKTSTSPIVKSFNRNEC\"\n",
    "\n",
    "def extract_numbered_seq(seq, chain_type):\n",
    "    if chain_type == 'H':\n",
    "        sequences = [('vh', seq), ('vl', '')]\n",
    "        index = 0\n",
    "    elif chain_type == 'L':\n",
    "        sequences = [('vh', ''), ('vl', seq)]\n",
    "        index = 1\n",
    "    else:\n",
    "        raise ValueError(\"Invalid chain type. Please use 'H' or 'L'.\")\n",
    "\n",
    "    results = anarci(sequences, scheme=\"imgt\", output=False)\n",
    "    numbering = results[0]\n",
    "\n",
    "    domain = numbering[index][0]\n",
    "    if domain is None:\n",
    "        raise ValueError(f\"ANARCI failed to number the {chain_type}-chain.\")\n",
    "\n",
    "    # Return the list of tuples with (residue number, insertion code, amino acid)\n",
    "    return domain\n",
    "\n",
    "# Run ANARCI\n",
    "vh_numbered = extract_numbered_seq(vh_seq, 'H')\n",
    "vl_numbered = extract_numbered_seq(vl_seq, 'L')\n",
    "\n",
    "vh_seq = ''.join([aa for (_, aa) in vh_numbered[0]])\n",
    "vl_seq = ''.join([aa for (_, aa) in vl_numbered[0]])\n",
    "\n",
    "vh_num = ''.join([f\"{num}{appendix}\" for ((num, appendix), aa) in vh_numbered[0]])\n",
    "vl_num = ''.join([f\"{num}{appendix}\" for ((num, appendix), aa) in vl_numbered[0]])\n",
    "\n",
    "# Example: print first few numbered residues\n",
    "print(\"VH Numbered Sequence:\", vh_num)\n",
    "print(\"VL Numbered Sequence:\", vl_num)\n",
    "print(\"VH Sequence:\", vh_seq)\n",
    "print(\"VL Sequence:\", vl_seq)\n"
   ]
  }
 ],
 "metadata": {
  "kernelspec": {
   "display_name": "point_mutation",
   "language": "python",
   "name": "python3"
  },
  "language_info": {
   "codemirror_mode": {
    "name": "ipython",
    "version": 3
   },
   "file_extension": ".py",
   "mimetype": "text/x-python",
   "name": "python",
   "nbconvert_exporter": "python",
   "pygments_lexer": "ipython3",
   "version": "3.9.23"
  }
 },
 "nbformat": 4,
 "nbformat_minor": 5
}
