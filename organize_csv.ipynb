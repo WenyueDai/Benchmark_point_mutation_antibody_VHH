{
 "cells": [
  {
   "cell_type": "code",
   "execution_count": 2,
   "id": "6bdfd67d",
   "metadata": {},
   "outputs": [
    {
     "name": "stdout",
     "output_type": "stream",
     "text": [
      "Combined CSV saved as vhh_pyrosetta.csv\n"
     ]
    }
   ],
   "source": [
    "import pandas as pd\n",
    "import os\n",
    "\n",
    "# Folder containing the CSV files\n",
    "folder_path = '/home/eva/0_point_mutation/results/pyrosetta'\n",
    "\n",
    "# List to store DataFrames\n",
    "all_dfs = []\n",
    "\n",
    "# Iterate over all relevant CSV files\n",
    "for filename in os.listdir(folder_path):\n",
    "    if filename.endswith('_pyrosetta.csv'):\n",
    "        # Extract sample name from filename\n",
    "        sample_name = filename.replace('_pyrosetta.csv', '')\n",
    "\n",
    "        # Load the CSV file\n",
    "        file_path = os.path.join(folder_path, filename)\n",
    "        df = pd.read_csv(file_path)\n",
    "\n",
    "        # Add the sample column\n",
    "        df['sample'] = sample_name\n",
    "\n",
    "        # Append to the list\n",
    "        all_dfs.append(df)\n",
    "\n",
    "# Concatenate all dataframes\n",
    "combined_df = pd.concat(all_dfs, ignore_index=True)\n",
    "\n",
    "# Save to one file\n",
    "combined_df.to_csv('vhh_pyrosetta.csv', index=False)\n",
    "\n",
    "print(\"Combined CSV saved as vhh_pyrosetta.csv\")\n"
   ]
  }
 ],
 "metadata": {
  "kernelspec": {
   "display_name": "getcontact",
   "language": "python",
   "name": "python3"
  },
  "language_info": {
   "codemirror_mode": {
    "name": "ipython",
    "version": 3
   },
   "file_extension": ".py",
   "mimetype": "text/x-python",
   "name": "python",
   "nbconvert_exporter": "python",
   "pygments_lexer": "ipython3",
   "version": "3.11.8"
  }
 },
 "nbformat": 4,
 "nbformat_minor": 5
}
